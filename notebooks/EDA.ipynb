{
  "cells": [
    {
      "cell_type": "markdown",
      "metadata": {
        "id": "4R6LGCA4lj64"
      },
      "source": [
        "<h1> EDA и подготовка данных (Часть 1)</h1>"
      ]
    },
    {
      "cell_type": "markdown",
      "metadata": {},
      "source": [
        "Здесь приведен краткий разведочный анализ данных и предподготовка данных для дальнейшей обработки."
      ]
    },
    {
      "cell_type": "markdown",
      "metadata": {},
      "source": [
        "<h3>EDA</h3>"
      ]
    },
    {
      "cell_type": "code",
      "execution_count": 83,
      "metadata": {
        "id": "-70d0GZrc5VR"
      },
      "outputs": [],
      "source": [
        "import pandas as pd\n",
        "import matplotlib.pyplot as plt"
      ]
    },
    {
      "cell_type": "code",
      "execution_count": 84,
      "metadata": {
        "colab": {
          "base_uri": "https://localhost:8080/"
        },
        "id": "E0OrqGtl8P5K",
        "outputId": "5d2b9d82-25d4-405a-c312-ae2c488ca2a9"
      },
      "outputs": [],
      "source": [
        "splits = {'train': 'sberquad/train-00000-of-00001.parquet', 'validation': 'sberquad/validation-00000-of-00001.parquet', 'test': 'sberquad/test-00000-of-00001.parquet'}\n",
        "df_train = pd.read_parquet(\"hf://datasets/kuznetsoffandrey/sberquad/\" + splits[\"train\"])\n",
        "df_val = pd.read_parquet(\"hf://datasets/kuznetsoffandrey/sberquad/\" + splits[\"validation\"])\n",
        "df_test = pd.read_parquet(\"hf://datasets/kuznetsoffandrey/sberquad/\" + splits[\"test\"])"
      ]
    },
    {
      "cell_type": "code",
      "execution_count": 7,
      "metadata": {
        "colab": {
          "base_uri": "https://localhost:8080/",
          "height": 206
        },
        "id": "AFHwh_T18oA7",
        "outputId": "93ef1dcf-f2f2-4336-817f-ca2ad20f1fd9"
      },
      "outputs": [
        {
          "data": {
            "text/html": [
              "<div>\n",
              "<style scoped>\n",
              "    .dataframe tbody tr th:only-of-type {\n",
              "        vertical-align: middle;\n",
              "    }\n",
              "\n",
              "    .dataframe tbody tr th {\n",
              "        vertical-align: top;\n",
              "    }\n",
              "\n",
              "    .dataframe thead th {\n",
              "        text-align: right;\n",
              "    }\n",
              "</style>\n",
              "<table border=\"1\" class=\"dataframe\">\n",
              "  <thead>\n",
              "    <tr style=\"text-align: right;\">\n",
              "      <th></th>\n",
              "      <th>id</th>\n",
              "      <th>title</th>\n",
              "      <th>context</th>\n",
              "      <th>question</th>\n",
              "      <th>answers</th>\n",
              "    </tr>\n",
              "  </thead>\n",
              "  <tbody>\n",
              "    <tr>\n",
              "      <th>0</th>\n",
              "      <td>62310</td>\n",
              "      <td>SberChallenge</td>\n",
              "      <td>В протерозойских отложениях органические остат...</td>\n",
              "      <td>чем представлены органические остатки?</td>\n",
              "      <td>{'text': ['известковыми выделениями сине-зелён...</td>\n",
              "    </tr>\n",
              "    <tr>\n",
              "      <th>1</th>\n",
              "      <td>28101</td>\n",
              "      <td>SberChallenge</td>\n",
              "      <td>В протерозойских отложениях органические остат...</td>\n",
              "      <td>что найдено в кремнистых сланцах железорудной ...</td>\n",
              "      <td>{'text': ['нитевидные водоросли, грибные нити'...</td>\n",
              "    </tr>\n",
              "    <tr>\n",
              "      <th>2</th>\n",
              "      <td>48834</td>\n",
              "      <td>SberChallenge</td>\n",
              "      <td>В протерозойских отложениях органические остат...</td>\n",
              "      <td>что встречается в протерозойских отложениях?</td>\n",
              "      <td>{'text': ['органические остатки'], 'answer_sta...</td>\n",
              "    </tr>\n",
              "    <tr>\n",
              "      <th>3</th>\n",
              "      <td>83056</td>\n",
              "      <td>SberChallenge</td>\n",
              "      <td>В протерозойских отложениях органические остат...</td>\n",
              "      <td>что относится к числу древнейших растительных ...</td>\n",
              "      <td>{'text': ['скопления графито-углистого веществ...</td>\n",
              "    </tr>\n",
              "    <tr>\n",
              "      <th>4</th>\n",
              "      <td>5816</td>\n",
              "      <td>SberChallenge</td>\n",
              "      <td>В протерозойских отложениях органические остат...</td>\n",
              "      <td>как образовалось графито-углистое вещество?</td>\n",
              "      <td>{'text': ['в результате разложения Corycium en...</td>\n",
              "    </tr>\n",
              "  </tbody>\n",
              "</table>\n",
              "</div>"
            ],
            "text/plain": [
              "      id          title                                            context  \\\n",
              "0  62310  SberChallenge  В протерозойских отложениях органические остат...   \n",
              "1  28101  SberChallenge  В протерозойских отложениях органические остат...   \n",
              "2  48834  SberChallenge  В протерозойских отложениях органические остат...   \n",
              "3  83056  SberChallenge  В протерозойских отложениях органические остат...   \n",
              "4   5816  SberChallenge  В протерозойских отложениях органические остат...   \n",
              "\n",
              "                                            question  \\\n",
              "0             чем представлены органические остатки?   \n",
              "1  что найдено в кремнистых сланцах железорудной ...   \n",
              "2       что встречается в протерозойских отложениях?   \n",
              "3  что относится к числу древнейших растительных ...   \n",
              "4        как образовалось графито-углистое вещество?   \n",
              "\n",
              "                                             answers  \n",
              "0  {'text': ['известковыми выделениями сине-зелён...  \n",
              "1  {'text': ['нитевидные водоросли, грибные нити'...  \n",
              "2  {'text': ['органические остатки'], 'answer_sta...  \n",
              "3  {'text': ['скопления графито-углистого веществ...  \n",
              "4  {'text': ['в результате разложения Corycium en...  "
            ]
          },
          "execution_count": 7,
          "metadata": {},
          "output_type": "execute_result"
        }
      ],
      "source": [
        "df_train.head()"
      ]
    },
    {
      "cell_type": "code",
      "execution_count": 8,
      "metadata": {
        "colab": {
          "base_uri": "https://localhost:8080/"
        },
        "id": "5KtD1HHm8zbv",
        "outputId": "cf57d41e-afaa-47da-d2a0-a94623c9a739"
      },
      "outputs": [
        {
          "name": "stdout",
          "output_type": "stream",
          "text": [
            "<class 'pandas.core.frame.DataFrame'>\n",
            "RangeIndex: 45328 entries, 0 to 45327\n",
            "Data columns (total 5 columns):\n",
            " #   Column    Non-Null Count  Dtype \n",
            "---  ------    --------------  ----- \n",
            " 0   id        45328 non-null  int32 \n",
            " 1   title     45328 non-null  object\n",
            " 2   context   45328 non-null  object\n",
            " 3   question  45328 non-null  object\n",
            " 4   answers   45328 non-null  object\n",
            "dtypes: int32(1), object(4)\n",
            "memory usage: 1.6+ MB\n"
          ]
        }
      ],
      "source": [
        "df_train.info()"
      ]
    },
    {
      "cell_type": "code",
      "execution_count": 9,
      "metadata": {
        "colab": {
          "base_uri": "https://localhost:8080/",
          "height": 206
        },
        "id": "meVyspYt87zz",
        "outputId": "fe0250ae-5071-44b5-e953-af9650e11ace"
      },
      "outputs": [
        {
          "data": {
            "text/html": [
              "<div>\n",
              "<style scoped>\n",
              "    .dataframe tbody tr th:only-of-type {\n",
              "        vertical-align: middle;\n",
              "    }\n",
              "\n",
              "    .dataframe tbody tr th {\n",
              "        vertical-align: top;\n",
              "    }\n",
              "\n",
              "    .dataframe thead th {\n",
              "        text-align: right;\n",
              "    }\n",
              "</style>\n",
              "<table border=\"1\" class=\"dataframe\">\n",
              "  <thead>\n",
              "    <tr style=\"text-align: right;\">\n",
              "      <th></th>\n",
              "      <th>id</th>\n",
              "      <th>title</th>\n",
              "      <th>context</th>\n",
              "      <th>question</th>\n",
              "      <th>answers</th>\n",
              "    </tr>\n",
              "  </thead>\n",
              "  <tbody>\n",
              "    <tr>\n",
              "      <th>0</th>\n",
              "      <td>18009</td>\n",
              "      <td>SberChallenge</td>\n",
              "      <td>Многоклеточный организм — внесистематическая к...</td>\n",
              "      <td>У каких организмов отсутствуют настоящие диффе...</td>\n",
              "      <td>{'text': [''], 'answer_start': [-1]}</td>\n",
              "    </tr>\n",
              "    <tr>\n",
              "      <th>1</th>\n",
              "      <td>54494</td>\n",
              "      <td>SberChallenge</td>\n",
              "      <td>Многоклеточный организм — внесистематическая к...</td>\n",
              "      <td>Какие животные появились на Земле 2,1 миллиард...</td>\n",
              "      <td>{'text': [''], 'answer_start': [-1]}</td>\n",
              "    </tr>\n",
              "    <tr>\n",
              "      <th>2</th>\n",
              "      <td>56411</td>\n",
              "      <td>SberChallenge</td>\n",
              "      <td>Многоклеточный организм — внесистематическая к...</td>\n",
              "      <td>Когда предположительно появились многоклеточны...</td>\n",
              "      <td>{'text': [''], 'answer_start': [-1]}</td>\n",
              "    </tr>\n",
              "    <tr>\n",
              "      <th>3</th>\n",
              "      <td>20672</td>\n",
              "      <td>SberChallenge</td>\n",
              "      <td>Многоклеточный организм — внесистематическая к...</td>\n",
              "      <td>Как называется внесистематическая категория жи...</td>\n",
              "      <td>{'text': [''], 'answer_start': [-1]}</td>\n",
              "    </tr>\n",
              "    <tr>\n",
              "      <th>4</th>\n",
              "      <td>45545</td>\n",
              "      <td>SberChallenge</td>\n",
              "      <td>Многоклеточный организм — внесистематическая к...</td>\n",
              "      <td>У какой категории живых организмов, тело котор...</td>\n",
              "      <td>{'text': [''], 'answer_start': [-1]}</td>\n",
              "    </tr>\n",
              "  </tbody>\n",
              "</table>\n",
              "</div>"
            ],
            "text/plain": [
              "      id          title                                            context  \\\n",
              "0  18009  SberChallenge  Многоклеточный организм — внесистематическая к...   \n",
              "1  54494  SberChallenge  Многоклеточный организм — внесистематическая к...   \n",
              "2  56411  SberChallenge  Многоклеточный организм — внесистематическая к...   \n",
              "3  20672  SberChallenge  Многоклеточный организм — внесистематическая к...   \n",
              "4  45545  SberChallenge  Многоклеточный организм — внесистематическая к...   \n",
              "\n",
              "                                            question  \\\n",
              "0  У каких организмов отсутствуют настоящие диффе...   \n",
              "1  Какие животные появились на Земле 2,1 миллиард...   \n",
              "2  Когда предположительно появились многоклеточны...   \n",
              "3  Как называется внесистематическая категория жи...   \n",
              "4  У какой категории живых организмов, тело котор...   \n",
              "\n",
              "                                answers  \n",
              "0  {'text': [''], 'answer_start': [-1]}  \n",
              "1  {'text': [''], 'answer_start': [-1]}  \n",
              "2  {'text': [''], 'answer_start': [-1]}  \n",
              "3  {'text': [''], 'answer_start': [-1]}  \n",
              "4  {'text': [''], 'answer_start': [-1]}  "
            ]
          },
          "execution_count": 9,
          "metadata": {},
          "output_type": "execute_result"
        }
      ],
      "source": [
        "df_test.head()"
      ]
    },
    {
      "cell_type": "code",
      "execution_count": 10,
      "metadata": {
        "colab": {
          "base_uri": "https://localhost:8080/"
        },
        "id": "U6D0h8JxS6s-",
        "outputId": "45041998-7453-47ea-b877-c9f8d7817aba"
      },
      "outputs": [
        {
          "name": "stdout",
          "output_type": "stream",
          "text": [
            "Максимальная длина вопроса в train: 670\n",
            "Максимальная длина вопроса в validation: 471\n",
            "Максимальная длина вопроса в test: 590\n",
            "\n",
            "Минимальная длина вопроса в train: 8\n",
            "Минимальная длина вопроса в validation: 10\n",
            "Минимальная длина вопроса в test: 5\n"
          ]
        }
      ],
      "source": [
        "train_question_len = df_train['question'].apply(len)\n",
        "val_question_len = df_val['question'].apply(len)\n",
        "test_question_len = df_test['question'].apply(len)\n",
        "\n",
        "print(f'Максимальная длина вопроса в train: {train_question_len.max()}')\n",
        "print(f'Максимальная длина вопроса в validation: {val_question_len.max()}')\n",
        "print(f'Максимальная длина вопроса в test: {test_question_len.max()}')\n",
        "print()\n",
        "print(f'Минимальная длина вопроса в train: {train_question_len.min()}')\n",
        "print(f'Минимальная длина вопроса в validation: {val_question_len.min()}')\n",
        "print(f'Минимальная длина вопроса в test: {test_question_len.min()}')"
      ]
    },
    {
      "cell_type": "code",
      "execution_count": 11,
      "metadata": {
        "colab": {
          "base_uri": "https://localhost:8080/",
          "height": 391
        },
        "id": "Le9eLVnglUvC",
        "outputId": "132fcf30-0945-4858-dc26-1843d43ebade"
      },
      "outputs": [
        {
          "data": {
            "image/png": "[encoded data removed]",
            "text/plain": [
              "<Figure size 1600x400 with 3 Axes>"
            ]
          },
          "metadata": {},
          "output_type": "display_data"
        }
      ],
      "source": [
        "_, axes = plt.subplots(1, 3, figsize=(16, 4))\n",
        "axes[0].hist(train_question_len, bins=40, log=True)\n",
        "axes[0].set_title('Распределение по длине вопроса в train')\n",
        "\n",
        "axes[1].hist(val_question_len, bins=40, log=True)\n",
        "axes[1].set_title('Распределение по длине вопроса в validation')\n",
        "\n",
        "axes[2].hist(test_question_len, bins=40, log=True)\n",
        "axes[2].set_title('Распределение по длине вопроса в test')\n",
        "plt.show()"
      ]
    },
    {
      "cell_type": "code",
      "execution_count": 12,
      "metadata": {
        "colab": {
          "base_uri": "https://localhost:8080/"
        },
        "id": "MFVR-I1IjoJD",
        "outputId": "06b615c5-abdc-459a-f790-5f5d20c1e965"
      },
      "outputs": [
        {
          "name": "stdout",
          "output_type": "stream",
          "text": [
            "Максимальная длина контекста в train: 7231\n",
            "Максимальная длина контекста в validation: 3489\n",
            "Максимальная длина контекста в test: 2834\n",
            "\n",
            "Минимальная длина контекста в train: 279\n",
            "Минимальная длина контекста в validation: 279\n",
            "Минимальная длина контекста в test: 304\n"
          ]
        }
      ],
      "source": [
        "train_context_len = df_train['context'].apply(len)\n",
        "val_context_len = df_val['context'].apply(len)\n",
        "test_context_len = df_test['context'].apply(len)\n",
        "\n",
        "print(f'Максимальная длина контекста в train: {train_context_len.max()}')\n",
        "print(f'Максимальная длина контекста в validation: {val_context_len.max()}')\n",
        "print(f'Максимальная длина контекста в test: {test_context_len.max()}')\n",
        "print()\n",
        "print(f'Минимальная длина контекста в train: {train_context_len.min()}')\n",
        "print(f'Минимальная длина контекста в validation: {val_context_len.min()}')\n",
        "print(f'Минимальная длина контекста в test: {test_context_len.min()}')"
      ]
    },
    {
      "cell_type": "code",
      "execution_count": 13,
      "metadata": {
        "colab": {
          "base_uri": "https://localhost:8080/",
          "height": 391
        },
        "id": "D8KWH_Gak67-",
        "outputId": "3e4db8ad-0418-4b93-a8eb-1899b88704c2"
      },
      "outputs": [
        {
          "data": {
            "image/png": "[encoded data removed]",
            "text/plain": [
              "<Figure size 1600x400 with 3 Axes>"
            ]
          },
          "metadata": {},
          "output_type": "display_data"
        }
      ],
      "source": [
        "_, axes = plt.subplots(1, 3, figsize=(16, 4))\n",
        "axes[0].hist(train_context_len, bins=40, log=True)\n",
        "axes[0].set_title('Распределение по длине контекста в train')\n",
        "\n",
        "axes[1].hist(val_context_len, bins=40, log=True)\n",
        "axes[1].set_title('Распределение по длине контекста в validation')\n",
        "\n",
        "axes[2].hist(test_context_len, bins=40, log=True)\n",
        "axes[2].set_title('Распределение по длине контекста в test')\n",
        "plt.show()"
      ]
    },
    {
      "cell_type": "code",
      "execution_count": 14,
      "metadata": {
        "colab": {
          "base_uri": "https://localhost:8080/"
        },
        "id": "kfTZNQX6aUt-",
        "outputId": "c6d1498f-44a7-4b0e-82f8-d5eedae2925a"
      },
      "outputs": [
        {
          "name": "stdout",
          "output_type": "stream",
          "text": [
            "Максимальная длина ответа в train: 673\n",
            "Минимальная длина ответа в train: 1\n",
            "\n",
            "Максимальная длина ответа в validation: 673\n",
            "Минимальная длина ответа в validation: 1\n"
          ]
        }
      ],
      "source": [
        "train_answer_len = df_train['answers'].apply(lambda x: x['text'][0]).apply(len)\n",
        "val_answer_len = df_val['answers'].apply(lambda x: x['text'][0]).apply(len)\n",
        "\n",
        "print(f'Максимальная длина ответа в train: {train_answer_len.max()}')\n",
        "print(f'Минимальная длина ответа в train: {train_answer_len.min()}')\n",
        "print()\n",
        "print(f'Максимальная длина ответа в validation: {train_answer_len.max()}')\n",
        "print(f'Минимальная длина ответа в validation: {train_answer_len.min()}')"
      ]
    },
    {
      "cell_type": "code",
      "execution_count": 15,
      "metadata": {
        "colab": {
          "base_uri": "https://localhost:8080/",
          "height": 391
        },
        "id": "ViG7H4Mec_b5",
        "outputId": "ff6ba7fb-7b8e-4d9f-856f-81252c15650c"
      },
      "outputs": [
        {
          "data": {
            "image/png": "[encoded data removed]",
            "text/plain": [
              "<Figure size 1200x400 with 2 Axes>"
            ]
          },
          "metadata": {},
          "output_type": "display_data"
        }
      ],
      "source": [
        "_, axes = plt.subplots(1, 2, figsize=(12, 4))\n",
        "axes[0].hist(train_answer_len, bins=40, log=True)\n",
        "axes[0].set_title('Распределение по длине ответа в train')\n",
        "\n",
        "axes[1].hist(val_answer_len, bins=40, log=True)\n",
        "axes[1].set_title('Распределение по длине ответа в validation')\n",
        "plt.show()"
      ]
    },
    {
      "cell_type": "code",
      "execution_count": 15,
      "metadata": {
        "colab": {
          "base_uri": "https://localhost:8080/"
        },
        "id": "0PAaLmf9iaWk",
        "outputId": "72daa442-4bb5-4793-a92f-4b4c40491fb7"
      },
      "outputs": [
        {
          "name": "stdout",
          "output_type": "stream",
          "text": [
            "Уникальных контекстов в train: 9078\n",
            "Уникальных контекстов в validation: 3971\n",
            "Уникальных контекстов в test: 4425\n",
            "Уникальных контекстов в полном датасете: 13489\n"
          ]
        }
      ],
      "source": [
        "print(f'Уникальных контекстов в train: {df_train[\"context\"].nunique()}')\n",
        "print(f'Уникальных контекстов в validation: {df_val[\"context\"].nunique()}')\n",
        "print(f'Уникальных контекстов в test: {df_test[\"context\"].nunique()}')\n",
        "\n",
        "all_contexts = pd.concat([df_train[\"context\"], df_test[\"context\"], df_val[\"context\"]]).drop_duplicates().reset_index()\n",
        "print(f'Уникальных контекстов в полном датасете: {all_contexts[\"context\"].nunique()}')"
      ]
    },
    {
      "cell_type": "code",
      "execution_count": 85,
      "metadata": {},
      "outputs": [
        {
          "data": {
            "text/html": [
              "<div>\n",
              "<style scoped>\n",
              "    .dataframe tbody tr th:only-of-type {\n",
              "        vertical-align: middle;\n",
              "    }\n",
              "\n",
              "    .dataframe tbody tr th {\n",
              "        vertical-align: top;\n",
              "    }\n",
              "\n",
              "    .dataframe thead th {\n",
              "        text-align: right;\n",
              "    }\n",
              "</style>\n",
              "<table border=\"1\" class=\"dataframe\">\n",
              "  <thead>\n",
              "    <tr style=\"text-align: right;\">\n",
              "      <th></th>\n",
              "      <th>context</th>\n",
              "      <th>id</th>\n",
              "    </tr>\n",
              "  </thead>\n",
              "  <tbody>\n",
              "    <tr>\n",
              "      <th>0</th>\n",
              "      <td>В протерозойских отложениях органические остат...</td>\n",
              "      <td>1</td>\n",
              "    </tr>\n",
              "    <tr>\n",
              "      <th>1</th>\n",
              "      <td>Кишечник млекопитающего подразделяется на тонк...</td>\n",
              "      <td>2</td>\n",
              "    </tr>\n",
              "    <tr>\n",
              "      <th>2</th>\n",
              "      <td>Город Байконур и космодром Байконур вместе обр...</td>\n",
              "      <td>3</td>\n",
              "    </tr>\n",
              "    <tr>\n",
              "      <th>3</th>\n",
              "      <td>Вскоре после прибытия Колумба из Вест-Индии во...</td>\n",
              "      <td>4</td>\n",
              "    </tr>\n",
              "    <tr>\n",
              "      <th>4</th>\n",
              "      <td>Около Порт-Артура ночью на 27 января 1904 года...</td>\n",
              "      <td>5</td>\n",
              "    </tr>\n",
              "  </tbody>\n",
              "</table>\n",
              "</div>"
            ],
            "text/plain": [
              "                                             context  id\n",
              "0  В протерозойских отложениях органические остат...   1\n",
              "1  Кишечник млекопитающего подразделяется на тонк...   2\n",
              "2  Город Байконур и космодром Байконур вместе обр...   3\n",
              "3  Вскоре после прибытия Колумба из Вест-Индии во...   4\n",
              "4  Около Порт-Артура ночью на 27 января 1904 года...   5"
            ]
          },
          "execution_count": 85,
          "metadata": {},
          "output_type": "execute_result"
        }
      ],
      "source": [
        "df = pd.concat([df_train, df_test, df_val]).reset_index(drop=True)\n",
        "all_contexts = df[['context']].drop_duplicates()\n",
        "all_contexts['id'] = pd.factorize(all_contexts['context'])[0] + 1\n",
        "all_contexts = all_contexts.reset_index(drop=True)\n",
        "all_contexts.head()"
      ]
    },
    {
      "cell_type": "code",
      "execution_count": 86,
      "metadata": {},
      "outputs": [],
      "source": [
        "def extract_questions(df: pd.DataFrame) -> pd.DataFrame:\n",
        "    df['context_id'] = df['context'].map(all_contexts.set_index('context')['id'])\n",
        "    df = df.drop(['title', 'context', 'answers'], axis=1)\n",
        "    return df\n",
        "\n",
        "questions_train = extract_questions(df_train)\n",
        "questions_val = extract_questions(df_val)\n",
        "questions_test = extract_questions(df_test)"
      ]
    },
    {
      "cell_type": "code",
      "execution_count": 87,
      "metadata": {},
      "outputs": [
        {
          "data": {
            "text/html": [
              "<div>\n",
              "<style scoped>\n",
              "    .dataframe tbody tr th:only-of-type {\n",
              "        vertical-align: middle;\n",
              "    }\n",
              "\n",
              "    .dataframe tbody tr th {\n",
              "        vertical-align: top;\n",
              "    }\n",
              "\n",
              "    .dataframe thead th {\n",
              "        text-align: right;\n",
              "    }\n",
              "</style>\n",
              "<table border=\"1\" class=\"dataframe\">\n",
              "  <thead>\n",
              "    <tr style=\"text-align: right;\">\n",
              "      <th></th>\n",
              "      <th>id</th>\n",
              "      <th>question</th>\n",
              "      <th>context_id</th>\n",
              "    </tr>\n",
              "  </thead>\n",
              "  <tbody>\n",
              "    <tr>\n",
              "      <th>0</th>\n",
              "      <td>62310</td>\n",
              "      <td>чем представлены органические остатки?</td>\n",
              "      <td>1</td>\n",
              "    </tr>\n",
              "    <tr>\n",
              "      <th>1</th>\n",
              "      <td>28101</td>\n",
              "      <td>что найдено в кремнистых сланцах железорудной ...</td>\n",
              "      <td>1</td>\n",
              "    </tr>\n",
              "    <tr>\n",
              "      <th>2</th>\n",
              "      <td>48834</td>\n",
              "      <td>что встречается в протерозойских отложениях?</td>\n",
              "      <td>1</td>\n",
              "    </tr>\n",
              "    <tr>\n",
              "      <th>3</th>\n",
              "      <td>83056</td>\n",
              "      <td>что относится к числу древнейших растительных ...</td>\n",
              "      <td>1</td>\n",
              "    </tr>\n",
              "    <tr>\n",
              "      <th>4</th>\n",
              "      <td>5816</td>\n",
              "      <td>как образовалось графито-углистое вещество?</td>\n",
              "      <td>1</td>\n",
              "    </tr>\n",
              "  </tbody>\n",
              "</table>\n",
              "</div>"
            ],
            "text/plain": [
              "      id                                           question  context_id\n",
              "0  62310             чем представлены органические остатки?           1\n",
              "1  28101  что найдено в кремнистых сланцах железорудной ...           1\n",
              "2  48834       что встречается в протерозойских отложениях?           1\n",
              "3  83056  что относится к числу древнейших растительных ...           1\n",
              "4   5816        как образовалось графито-углистое вещество?           1"
            ]
          },
          "execution_count": 87,
          "metadata": {},
          "output_type": "execute_result"
        }
      ],
      "source": [
        "questions_train.head()"
      ]
    },
    {
      "cell_type": "code",
      "execution_count": 88,
      "metadata": {},
      "outputs": [
        {
          "data": {
            "text/html": [
              "<div>\n",
              "<style scoped>\n",
              "    .dataframe tbody tr th:only-of-type {\n",
              "        vertical-align: middle;\n",
              "    }\n",
              "\n",
              "    .dataframe tbody tr th {\n",
              "        vertical-align: top;\n",
              "    }\n",
              "\n",
              "    .dataframe thead th {\n",
              "        text-align: right;\n",
              "    }\n",
              "</style>\n",
              "<table border=\"1\" class=\"dataframe\">\n",
              "  <thead>\n",
              "    <tr style=\"text-align: right;\">\n",
              "      <th></th>\n",
              "      <th>question_id</th>\n",
              "      <th>answers</th>\n",
              "    </tr>\n",
              "  </thead>\n",
              "  <tbody>\n",
              "    <tr>\n",
              "      <th>0</th>\n",
              "      <td>62310</td>\n",
              "      <td>{'text': ['известковыми выделениями сине-зелён...</td>\n",
              "    </tr>\n",
              "    <tr>\n",
              "      <th>1</th>\n",
              "      <td>28101</td>\n",
              "      <td>{'text': ['нитевидные водоросли, грибные нити'...</td>\n",
              "    </tr>\n",
              "    <tr>\n",
              "      <th>2</th>\n",
              "      <td>48834</td>\n",
              "      <td>{'text': ['органические остатки'], 'answer_sta...</td>\n",
              "    </tr>\n",
              "    <tr>\n",
              "      <th>3</th>\n",
              "      <td>83056</td>\n",
              "      <td>{'text': ['скопления графито-углистого веществ...</td>\n",
              "    </tr>\n",
              "    <tr>\n",
              "      <th>4</th>\n",
              "      <td>5816</td>\n",
              "      <td>{'text': ['в результате разложения Corycium en...</td>\n",
              "    </tr>\n",
              "  </tbody>\n",
              "</table>\n",
              "</div>"
            ],
            "text/plain": [
              "   question_id                                            answers\n",
              "0        62310  {'text': ['известковыми выделениями сине-зелён...\n",
              "1        28101  {'text': ['нитевидные водоросли, грибные нити'...\n",
              "2        48834  {'text': ['органические остатки'], 'answer_sta...\n",
              "3        83056  {'text': ['скопления графито-углистого веществ...\n",
              "4         5816  {'text': ['в результате разложения Corycium en..."
            ]
          },
          "execution_count": 88,
          "metadata": {},
          "output_type": "execute_result"
        }
      ],
      "source": [
        "def extract_answers(df: pd.DataFrame) -> pd.DataFrame:\n",
        "    df = df[['id', 'answers']]\n",
        "    return df.rename(columns={\"id\": \"question_id\"})\n",
        "\n",
        "answers_train = extract_answers(df_train)\n",
        "answers_val = extract_answers(df_val)\n",
        "answers_test = extract_answers(df_test)\n",
        "\n",
        "answers_train.head()"
      ]
    },
    {
      "cell_type": "code",
      "execution_count": 94,
      "metadata": {},
      "outputs": [],
      "source": [
        "import os\n",
        "os.chdir('./data')"
      ]
    },
    {
      "cell_type": "code",
      "execution_count": 96,
      "metadata": {},
      "outputs": [],
      "source": [
        "all_contexts.to_csv('contexts.csv')\n",
        "\n",
        "questions_train.to_csv('questions_train.csv')\n",
        "questions_val.to_csv('questions_val.csv')\n",
        "questions_test.to_csv('questions_test.csv')\n",
        "\n",
        "answers_train.to_csv('answers_train.csv')\n",
        "answers_val.to_csv('answers_val.csv')\n",
        "answers_test.to_csv('answers_test.csv')"
      ]
    }
  ],
  "metadata": {
    "colab": {
      "provenance": [],
      "toc_visible": true
    },
    "kernelspec": {
      "display_name": "Python 3",
      "name": "python3"
    },
    "language_info": {
      "codemirror_mode": {
        "name": "ipython",
        "version": 3
      },
      "file_extension": ".py",
      "mimetype": "text/x-python",
      "name": "python",
      "nbconvert_exporter": "python",
      "pygments_lexer": "ipython3",
      "version": "3.11.0"
    }
  },
  "nbformat": 4,
  "nbformat_minor": 0
}
